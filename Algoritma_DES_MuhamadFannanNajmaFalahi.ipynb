{
  "cells": [
    {
      "cell_type": "markdown",
      "metadata": {
        "id": "ubRnv61IbznI"
      },
      "source": [
        "# **Langkah Awal Permutasian**"
      ]
    },
    {
      "cell_type": "code",
      "execution_count": null,
      "metadata": {
        "colab": {
          "base_uri": "https://localhost:8080/"
        },
        "id": "uI8WVi9Fj_NZ",
        "outputId": "0cd42687-28bf-441d-fa5c-39675207b570"
      },
      "outputs": [
        {
          "name": "stdout",
          "output_type": "stream",
          "text": [
            "Masukan Plaintext : COMPUTER\n"
          ]
        }
      ],
      "source": [
        "plaintext = input(\"Masukan Plaintext : \") # Membuat plaintext dengan panjang 8 karakter / 64 bit"
      ]
    },
    {
      "cell_type": "markdown",
      "metadata": {
        "id": "uya025kLBtyP"
      },
      "source": [
        "**Mengubah plaintext ke binary**"
      ]
    },
    {
      "cell_type": "code",
      "source": [
        "if(len(plaintext) != 8): # mengecek kondisi jika panjang plaintext tidak sama dengan 8, maka pembuatan plaintext gagal\n",
        "  print(\"gagal\")\n",
        "  plaintext = \"\"\n",
        "else: # Jika panjang plaintext sama dengan 8\n",
        "  plaintext_bin = ''.join(format(ord(i), '08b') for i in plaintext) # Mengubah isi plaintext menjadi binary\n",
        "print('Plaintext : ',plaintext_bin)"
      ],
      "metadata": {
        "colab": {
          "base_uri": "https://localhost:8080/"
        },
        "id": "lCFlYzrC_tZ1",
        "outputId": "474e3fb4-564b-4e98-c44d-42a12aab0248"
      },
      "execution_count": null,
      "outputs": [
        {
          "output_type": "stream",
          "name": "stdout",
          "text": [
            "Plaintext :  0100001101001111010011010101000001010101010101000100010101010010\n"
          ]
        }
      ]
    },
    {
      "cell_type": "markdown",
      "metadata": {
        "id": "c8Q_Spo-BjN4"
      },
      "source": [
        "**Membuat Matrix urutan bit plaintext awal**"
      ]
    },
    {
      "cell_type": "code",
      "execution_count": null,
      "metadata": {
        "colab": {
          "base_uri": "https://localhost:8080/"
        },
        "id": "ZwXIZnSSmJy-",
        "outputId": "90c4bfd0-8797-4ebf-9de0-b55bcba7e99d"
      },
      "outputs": [
        {
          "output_type": "execute_result",
          "data": {
            "text/plain": [
              "[[1, 2, 3, 4, 5, 6, 7, 8],\n",
              " [9, 10, 11, 12, 13, 14, 15, 16],\n",
              " [17, 18, 19, 20, 21, 22, 23, 24],\n",
              " [25, 26, 27, 28, 29, 30, 31, 32],\n",
              " [33, 34, 35, 36, 37, 38, 39, 40],\n",
              " [41, 42, 43, 44, 45, 46, 47, 48],\n",
              " [49, 50, 51, 52, 53, 54, 55, 56],\n",
              " [57, 58, 59, 60, 61, 62, 63, 64]]"
            ]
          },
          "metadata": {},
          "execution_count": 3
        }
      ],
      "source": [
        "matrix = [['' for i in range(8)] for j in range(8)] # Membuat sebuah matrix untuk menampung urutan bit plaintext awal\n",
        "angka = 1\n",
        "for i in range(8):\n",
        "  for j in range(8):\n",
        "    matrix[i][j] = angka\n",
        "    angka+=1\n",
        "matrix"
      ]
    },
    {
      "cell_type": "markdown",
      "metadata": {
        "id": "TRKC7ctZBbhP"
      },
      "source": [
        "**Membuat Matrix Permutasian 1**"
      ]
    },
    {
      "cell_type": "code",
      "execution_count": null,
      "metadata": {
        "colab": {
          "base_uri": "https://localhost:8080/"
        },
        "id": "-m8JJh_tpJU1",
        "outputId": "4d012815-c717-483f-beb0-7e7434e61f35"
      },
      "outputs": [
        {
          "output_type": "execute_result",
          "data": {
            "text/plain": [
              "[[58, 50, 42, 34, 26, 18, 10, 2],\n",
              " [60, 52, 44, 36, 28, 20, 12, 4],\n",
              " [62, 54, 46, 38, 30, 22, 14, 6],\n",
              " [64, 56, 48, 40, 32, 24, 16, 8],\n",
              " [57, 49, 41, 33, 25, 17, 9, 1],\n",
              " [59, 51, 43, 35, 27, 19, 11, 3],\n",
              " [61, 53, 45, 37, 29, 21, 13, 5],\n",
              " [63, 55, 47, 39, 31, 23, 15, 7]]"
            ]
          },
          "metadata": {},
          "execution_count": 4
        }
      ],
      "source": [
        "matrix_permutasian1 = [['' for i in range(8)] for j in range(8)] # Membuat sebuah matrix untuk menampung urutan bit permutasian ke 1\n",
        "genap_klm = 7;  # Membuat variabel genap_klm untuk menyimpan nilai panjang kolom matrix dan dimulai dari index terakhir atau 7\n",
        "genap_brs = 0; # Membuat variabel genap_brs untuk menyimpan nilai panjang baris matrix dan dimulai dari index pertama atau 0\n",
        "ganjil_klm = 7;\n",
        "ganjil_brs = 4; # Membuat variabel ganjil_brs untuk menyimpan nilai panjang baris matrix dan dimulai dari index ke 4\n",
        "\n",
        "for i in range(8): # Melakukan loop untuk baris matrix_permutasian1\n",
        "  for j in range(8): # Melakukan loop untuk kolom matrix_permutasian1\n",
        "    if(matrix[i][j] % 2 != 0): # # Mengecek kondisi pada matrix urutan bit awal, jika setiap nilai iterasi bernilai ganjil\n",
        "      if(ganjil_brs < 8): # Mengecek kondisi lagi, jika nilai pada ganjil_brs kurang dari 8\n",
        "        matrix_permutasian1[ganjil_brs][ganjil_klm] = matrix[i][j] # Maka pada setiap nilai iterasi matrix_permutasian1 akan diubah menjadi nilai pada iterasi matrix awal\n",
        "        ganjil_brs+=1 # nilai ganjil_baris ditambah 1\n",
        "      else: # jika nilai ganjil_brs lebih 8\n",
        "        ganjil_brs=4 # nilai ganjil_brs akan dikembalikan ke nilai awal atau bernilai 4\n",
        "        ganjil_klm-=1 # nilai ganjil_klm akan dikurang 1\n",
        "        matrix_permutasian1[ganjil_brs][ganjil_klm] = matrix[i][j]\n",
        "        ganjil_brs+=1 # nilai ganjil_brs ditambah 1\n",
        "    else: #jika nilai iterasi pada matrix bernilai genap\n",
        "      if(genap_brs < 4): # mengecek kondisi jika nilai genap_brs kurang dari 4\n",
        "        matrix_permutasian1[genap_brs][genap_klm] = matrix[i][j] # # Maka pada setiap nilai iterasi matrix_permutasian1 akan diubah menjadi nilai pada iterasi matrix awal\n",
        "        genap_brs+=1\n",
        "      else:\n",
        "        genap_brs=0 # nilai genap_brs akan dikembalikan ke nilai awal atau bernilai 0\n",
        "        genap_klm-=1\n",
        "        matrix_permutasian1[genap_brs][genap_klm] = matrix[i][j]\n",
        "        genap_brs += 1\n",
        "\n",
        "matrix_permutasian1\n"
      ]
    },
    {
      "cell_type": "markdown",
      "metadata": {
        "id": "sHpjJHy6M9mo"
      },
      "source": [
        "**Melakukan Permutasian 1 pada matrix ke plaintext**"
      ]
    },
    {
      "cell_type": "code",
      "execution_count": null,
      "metadata": {
        "colab": {
          "base_uri": "https://localhost:8080/"
        },
        "id": "tLZj7t7q8tOp",
        "outputId": "d01e6a7e-c072-4e7a-8259-abdb889679d6"
      },
      "outputs": [
        {
          "output_type": "stream",
          "name": "stdout",
          "text": [
            "IP :  1111111110111000011101100101011100000000000000000000011010000011\n"
          ]
        }
      ],
      "source": [
        "angka_ip = 0; # membuat variabel angka_ip untuk menyimpan nilai setiap matrix_permutasian1\n",
        "ip = ''; # membuat variabel ip untuk menyimpan hasil permutasian\n",
        "for i in range(8): # melakukan looping pada baris matrix_permutasian1\n",
        "  for j in range(8): # melakukan looping pada kolom matrix_permutasian1\n",
        "    angka_ip = matrix_permutasian1[i][j] # angka_ip menyimpan nilai matrix_permutasian1 setiap iterasi\n",
        "    ip += plaintext_bin[angka_ip-1] # menambahkan nilai pada plaintext_bin dari index sesuai nilai angka_ip kedalam string ip\n",
        "print('IP : ',ip)"
      ]
    },
    {
      "cell_type": "markdown",
      "source": [
        "**Langkah 2, membagi plainteks menjadi 2**"
      ],
      "metadata": {
        "id": "UW8PB2v17yxm"
      }
    },
    {
      "cell_type": "code",
      "execution_count": null,
      "metadata": {
        "colab": {
          "base_uri": "https://localhost:8080/"
        },
        "id": "pXQvgGquBz8M",
        "outputId": "24bf8f4a-39c5-42f2-c4aa-6261941b381b"
      },
      "outputs": [
        {
          "output_type": "stream",
          "name": "stdout",
          "text": [
            "L0 :  11111111101110000111011001010111\n",
            "R0 :  00000000000000000000011010000011\n"
          ]
        }
      ],
      "source": [
        "L0 = ip[0:32] # Untuk menyimpan nilai L0\n",
        "R0 = ip[32:64] # untuk menyimpan nilai R0\n",
        "print('L0 : ',L0)\n",
        "print('R0 : ',R0)"
      ]
    },
    {
      "cell_type": "markdown",
      "metadata": {
        "id": "As5UgE0cms-3"
      },
      "source": [
        "**Membuat Kunci, dan diubah ke hexadesimal**"
      ]
    },
    {
      "cell_type": "code",
      "execution_count": null,
      "metadata": {
        "colab": {
          "base_uri": "https://localhost:8080/"
        },
        "id": "qmyVWmOXmsGB",
        "outputId": "d3ea3f87-c275-481e-cfb7-b17128fa63ed"
      },
      "outputs": [
        {
          "output_type": "execute_result",
          "data": {
            "text/plain": [
              "{'0': '0000',\n",
              " '1': '0001',\n",
              " '2': '0010',\n",
              " '3': '0011',\n",
              " '4': '0100',\n",
              " '5': '0101',\n",
              " '6': '0110',\n",
              " '7': '0111',\n",
              " '8': '1000',\n",
              " '9': '1001',\n",
              " 'A': '1010',\n",
              " 'B': '1011',\n",
              " 'C': '1100',\n",
              " 'D': '1101',\n",
              " 'E': '1110',\n",
              " 'F': '1111'}"
            ]
          },
          "metadata": {},
          "execution_count": 7
        }
      ],
      "source": [
        " hexa_to_bin = {\n",
        "        '0' : \"0000\",\n",
        "        '1' : \"0001\",\n",
        "        '2' : \"0010\",\n",
        "        '3' : \"0011\",\n",
        "        '4' : \"0100\",\n",
        "        '5' : \"0101\",\n",
        "        '6' : \"0110\",\n",
        "        '7' : \"0111\",\n",
        "        '8' : \"1000\",\n",
        "        '9' : \"1001\",\n",
        "        'A' : \"1010\",\n",
        "        'B' : \"1011\",\n",
        "        'C' : \"1100\",\n",
        "        'D' : \"1101\",\n",
        "        'E' : \"1110\",\n",
        "        'F' : \"1111\" }\n",
        "hexa_to_bin"
      ]
    },
    {
      "cell_type": "markdown",
      "source": [
        "**Langkah 3: Pembangkitan Kunci**"
      ],
      "metadata": {
        "id": "g8MLNanX8Bdi"
      }
    },
    {
      "cell_type": "code",
      "execution_count": null,
      "metadata": {
        "colab": {
          "base_uri": "https://localhost:8080/"
        },
        "id": "Q1RT5gqYp23w",
        "outputId": "e9398813-6def-4a97-8c1b-79b283228be7"
      },
      "outputs": [
        {
          "name": "stdout",
          "output_type": "stream",
          "text": [
            "Masukan Kunci :13 34 57 79 9B BC DF F1\n"
          ]
        }
      ],
      "source": [
        "kunci = input(\"Masukan Kunci :\")"
      ]
    },
    {
      "cell_type": "code",
      "source": [
        "kunci = kunci.replace(\" \",\"\")\n",
        "kunci = kunci.upper()\n",
        "#Membuat kunci menjadi binary\n",
        "if(len(kunci) != 16):\n",
        "  print(\"kunci gagal\")\n",
        "  kunci = \"\"\n",
        "else:\n",
        "  kunci_bin = ''\n",
        "  for i in range(len(kunci)):\n",
        "    kunci_bin += hexa_to_bin[kunci[i]]\n",
        "\n",
        "print('kunci :', kunci_bin)"
      ],
      "metadata": {
        "colab": {
          "base_uri": "https://localhost:8080/"
        },
        "id": "3LEHJ67CB80L",
        "outputId": "034650bf-0e83-4c6f-91a3-c53a305f2ef2"
      },
      "execution_count": null,
      "outputs": [
        {
          "output_type": "stream",
          "name": "stdout",
          "text": [
            "kunci : 0001001100110100010101110111100110011011101111001101111111110001\n"
          ]
        }
      ]
    },
    {
      "cell_type": "markdown",
      "source": [
        "**Langkah 4: Permutasian Kunci**"
      ],
      "metadata": {
        "id": "UsFT7Vd08TzH"
      }
    },
    {
      "cell_type": "code",
      "execution_count": null,
      "metadata": {
        "id": "US4dndekrkNZ"
      },
      "outputs": [],
      "source": [
        "matrix_permutasian2 = [57, 49, 41, 33, 25, 17, 9,\n",
        "                       1, 58, 50, 42, 34, 26, 18,\n",
        "                       10, 2, 59, 51, 43, 35, 27,\n",
        "                       19, 11, 3, 60, 52, 44, 36,\n",
        "                       63, 55, 47, 39, 31, 23, 15,\n",
        "                       7, 62, 54, 46, 38, 30, 22,\n",
        "                       14, 6, 61, 53, 45, 37, 29,\n",
        "                       21, 13, 5, 28, 20, 12, 4 ]"
      ]
    },
    {
      "cell_type": "code",
      "execution_count": null,
      "metadata": {
        "colab": {
          "base_uri": "https://localhost:8080/"
        },
        "id": "ibN9yYXh0k8y",
        "outputId": "5e45a82f-db3a-43a6-9573-0d832f0cd9e5"
      },
      "outputs": [
        {
          "output_type": "stream",
          "name": "stdout",
          "text": [
            "Kunci Permutasi : 11110000110011001010101011110101010101100110011110001111\n"
          ]
        }
      ],
      "source": [
        "kun = '';\n",
        "for i in range(56):\n",
        "    kun += kunci_bin[matrix_permutasian2[i]-1]\n",
        "print('Kunci Permutasi :',kun)"
      ]
    },
    {
      "cell_type": "markdown",
      "source": [
        "**Langkah 5: Memecah Kunci Menjadi C0 dan D0**"
      ],
      "metadata": {
        "id": "-2e4qQpX8bTC"
      }
    },
    {
      "cell_type": "code",
      "execution_count": null,
      "metadata": {
        "colab": {
          "base_uri": "https://localhost:8080/"
        },
        "id": "s_TOMyd51Eh9",
        "outputId": "7a3ad042-7175-4987-a6d7-27963b98c6f3"
      },
      "outputs": [
        {
          "output_type": "stream",
          "name": "stdout",
          "text": [
            "CO :  1111000011001100101010101111\n",
            "DO :  0101010101100110011110001111\n"
          ]
        }
      ],
      "source": [
        "C0 = kun[:28]\n",
        "D0 = kun[28:]\n",
        "print('CO : ',C0)\n",
        "print('DO : ',D0)"
      ]
    },
    {
      "cell_type": "markdown",
      "source": [
        "**Langkah 6 dan Langkah 7: Membuat Swap kiri pada C0 dan D0, dan membuat sampai C16 dan D16**,**dan Penggabungan C dan D**"
      ],
      "metadata": {
        "id": "Zdz1KEAt8ilS"
      }
    },
    {
      "cell_type": "code",
      "execution_count": null,
      "metadata": {
        "colab": {
          "base_uri": "https://localhost:8080/"
        },
        "id": "xAIiEwEF6kes",
        "outputId": "a22ca6c9-094f-4cc2-b0b3-85dd0d9d7daa"
      },
      "outputs": [
        {
          "output_type": "stream",
          "name": "stdout",
          "text": [
            "C1 : 1110000110011001010101011111\n",
            "D1 : 1010101011001100111100011110\n",
            "-----------------------------------\n",
            "C1D1 : 11100001100110010101010111111010101011001100111100011110\n",
            "\n",
            "C2 : 1100001100110010101010111111\n",
            "D2 : 0101010110011001111000111101\n",
            "-----------------------------------\n",
            "C2D2 : 11000011001100101010101111110101010110011001111000111101\n",
            "\n",
            "C3 : 0000110011001010101011111111\n",
            "D3 : 0101011001100111100011110101\n",
            "-----------------------------------\n",
            "C3D3 : 00001100110010101010111111110101011001100111100011110101\n",
            "\n",
            "C4 : 0011001100101010101111111100\n",
            "D4 : 0101100110011110001111010101\n",
            "-----------------------------------\n",
            "C4D4 : 00110011001010101011111111000101100110011110001111010101\n",
            "\n",
            "C5 : 1100110010101010111111110000\n",
            "D5 : 0110011001111000111101010101\n",
            "-----------------------------------\n",
            "C5D5 : 11001100101010101111111100000110011001111000111101010101\n",
            "\n",
            "C6 : 0011001010101011111111000011\n",
            "D6 : 1001100111100011110101010101\n",
            "-----------------------------------\n",
            "C6D6 : 00110010101010111111110000111001100111100011110101010101\n",
            "\n",
            "C7 : 1100101010101111111100001100\n",
            "D7 : 0110011110001111010101010110\n",
            "-----------------------------------\n",
            "C7D7 : 11001010101011111111000011000110011110001111010101010110\n",
            "\n",
            "C8 : 0010101010111111110000110011\n",
            "D8 : 1001111000111101010101011001\n",
            "-----------------------------------\n",
            "C8D8 : 00101010101111111100001100111001111000111101010101011001\n",
            "\n",
            "C9 : 0101010101111111100001100110\n",
            "D9 : 0011110001111010101010110011\n",
            "-----------------------------------\n",
            "C9D9 : 01010101011111111000011001100011110001111010101010110011\n",
            "\n",
            "C10 : 0101010111111110000110011001\n",
            "D10 : 1111000111101010101011001100\n",
            "-----------------------------------\n",
            "C10D10 : 01010101111111100001100110011111000111101010101011001100\n",
            "\n",
            "C11 : 0101011111111000011001100101\n",
            "D11 : 1100011110101010101100110011\n",
            "-----------------------------------\n",
            "C11D11 : 01010111111110000110011001011100011110101010101100110011\n",
            "\n",
            "C12 : 0101111111100001100110010101\n",
            "D12 : 0001111010101010110011001111\n",
            "-----------------------------------\n",
            "C12D12 : 01011111111000011001100101010001111010101010110011001111\n",
            "\n",
            "C13 : 0111111110000110011001010101\n",
            "D13 : 0111101010101011001100111100\n",
            "-----------------------------------\n",
            "C13D13 : 01111111100001100110010101010111101010101011001100111100\n",
            "\n",
            "C14 : 1111111000011001100101010101\n",
            "D14 : 1110101010101100110011110001\n",
            "-----------------------------------\n",
            "C14D14 : 11111110000110011001010101011110101010101100110011110001\n",
            "\n",
            "C15 : 1111100001100110010101010111\n",
            "D15 : 1010101010110011001111000111\n",
            "-----------------------------------\n",
            "C15D15 : 11111000011001100101010101111010101010110011001111000111\n",
            "\n",
            "C16 : 1111000011001100101010101111\n",
            "D16 : 0101010101100110011110001111\n",
            "-----------------------------------\n",
            "C16D16 : 11110000110011001010101011110101010101100110011110001111\n",
            "\n"
          ]
        }
      ],
      "source": [
        "CD_Gab = []\n",
        "tabel_wrapping = [1, 1, 2, 2,\n",
        "            2, 2, 2, 2,\n",
        "            1, 2, 2, 2,\n",
        "            2, 2, 2, 1 ]\n",
        "C = C0\n",
        "D = D0\n",
        "st = ''\n",
        "st2 = ''\n",
        "for i in range(16):\n",
        "  for j in range(tabel_wrapping[i]):\n",
        "    st += C[j]\n",
        "    st2 += D[j]\n",
        "  C_key = C[tabel_wrapping[i]:] + st\n",
        "  D_key = D[tabel_wrapping[i]:] + st2\n",
        "  C = C_key\n",
        "  D = D_key\n",
        "  st = ''\n",
        "  st2 = ''\n",
        "  CD_Gab.append(C+D)\n",
        "  print(f\"C{i+1} : {C}\")\n",
        "  print(f\"D{i+1} : {D}\")\n",
        "  print(\"-----------------------------------\")\n",
        "  print(f\"C{i+1}D{i+1} : {CD_Gab[i]}\\n\")"
      ]
    },
    {
      "cell_type": "markdown",
      "source": [
        "**Langkah 8: Melakukan Permutasian pada gabungan C dan D, dan memdapatkan K1 sampai K16**"
      ],
      "metadata": {
        "id": "VMLx1z7w88bJ"
      }
    },
    {
      "cell_type": "code",
      "execution_count": null,
      "metadata": {
        "colab": {
          "base_uri": "https://localhost:8080/"
        },
        "id": "Yh5e1G9YG4fq",
        "outputId": "0f0fc7d0-bb91-48b4-e37b-2756cec230a4"
      },
      "outputs": [
        {
          "output_type": "stream",
          "name": "stdout",
          "text": [
            "K1 : 000110110000001011101111111111000111000001110010\n",
            "K2 : 011110011010111011011001110110111100100111100101\n",
            "K3 : 010101011111110010001010010000101100111110011001\n",
            "K4 : 011100101010110111010110110110110011010100011101\n",
            "K5 : 011111001110110000000111111010110101001110101000\n",
            "K6 : 011000111010010100111110010100000111101100101111\n",
            "K7 : 111011001000010010110111111101100001100010111100\n",
            "K8 : 111101111000101000111010110000010011101111111011\n",
            "K9 : 111000001101101111101011111011011110011110000001\n",
            "K10 : 101100011111001101000111101110100100011001001111\n",
            "K11 : 001000010101111111010011110111101101001110000110\n",
            "K12 : 011101010111000111110101100101000110011111101001\n",
            "K13 : 100101111100010111010001111110101011101001000001\n",
            "K14 : 010111110100001110110111111100101110011100111010\n",
            "K15 : 101111111001000110001101001111010011111100001010\n",
            "K16 : 110010110011110110001011000011100001011111110101\n"
          ]
        }
      ],
      "source": [
        "matrix_permutasianPC2= [14, 17, 11, 24, 1, 5,\n",
        "                        3, 28, 15, 6, 21, 10,\n",
        "                        23, 19, 12, 4, 26, 8,\n",
        "                        16, 7, 27, 20,  13, 2,\n",
        "                        41, 52, 31, 37, 47, 55,\n",
        "                        30, 40, 51, 45, 33, 48,\n",
        "                        44, 49, 39, 56, 34, 53,\n",
        "                        46, 42, 50, 36, 29, 32]\n",
        "\n",
        "k_pc2 = []\n",
        "k = '';\n",
        "for i in range(len(CD_Gab)):\n",
        "  for j in range(48):\n",
        "    k += CD_Gab[i][matrix_permutasianPC2[j]-1]\n",
        "  k_pc2.append(k)\n",
        "  k = '';\n",
        "  print(f\"K{i+1} : {k_pc2[i]}\")"
      ]
    },
    {
      "cell_type": "markdown",
      "metadata": {
        "id": "CXahr_nvxZEo"
      },
      "source": [
        "# **AWAL PROSES ENCHIPERING**\n",
        "\n"
      ]
    },
    {
      "cell_type": "code",
      "execution_count": null,
      "metadata": {
        "id": "Ss5xInG2xDQo"
      },
      "outputs": [],
      "source": [
        "tabel_expansi = [32, 1, 2, 3, 4, 5,\n",
        "                  4, 5, 6, 7, 8, 9,\n",
        "                  8, 9, 10, 11, 12, 13,\n",
        "                  12, 13, 14, 15, 16, 17,\n",
        "                  16, 17, 18, 19, 20, 21,\n",
        "                  20, 21, 22, 23, 24, 25,\n",
        "                  24, 25, 26, 27, 28, 29,\n",
        "                  28, 29, 30, 31, 32, 1]"
      ]
    },
    {
      "cell_type": "code",
      "execution_count": null,
      "metadata": {
        "id": "kCxtEeQoFa4U"
      },
      "outputs": [],
      "source": [
        "s_box = [\n",
        "         [\n",
        "         [ 14, 4, 13, 1, 2, 15, 11, 8, 3, 10, 6, 12, 5, 9, 0, 7],\n",
        "         [ 0, 15, 7, 4, 14, 2, 13, 1, 10, 6, 12, 11, 9, 5, 3, 8],\n",
        "         [ 4, 1, 14, 8, 13, 6, 2, 11, 15, 12, 9, 7, 3, 10, 5, 0],\n",
        "         [ 15, 12, 8, 2, 4, 9, 1, 7, 5, 11, 3, 14, 10, 0, 6, 13]\n",
        "         ],\n",
        "        [\n",
        "         [ 15, 1, 8, 14, 6, 11, 3, 4, 9, 7, 2, 13, 12, 0, 5, 10],\n",
        "         [ 3, 13, 4, 7, 15, 2, 8, 14, 12, 0, 1, 10, 6, 9, 11, 5],\n",
        "         [ 0, 14, 7, 11, 10, 4, 13, 1, 5, 8, 12, 6, 9, 3, 2, 15],\n",
        "         [ 13, 8, 10, 1, 3, 15, 4, 2, 11, 6, 7, 12, 0, 5, 14, 9]\n",
        "        ],\n",
        "        [\n",
        "         [ 10, 0, 9, 14, 6, 3, 15, 5, 1, 13, 12, 7, 11, 4, 2, 8],\n",
        "         [ 13, 7, 0, 9, 3, 4, 6, 10, 2, 8, 5, 14, 12, 11, 15, 1],\n",
        "         [ 13, 6, 4, 9, 8, 15, 3, 0, 11, 1, 2, 12, 5, 10, 14, 7],\n",
        "         [ 1, 10, 13, 0, 6, 9, 8, 7, 4, 15, 14, 3, 11, 5, 2, 12]\n",
        "        ],\n",
        "        [\n",
        "         [ 7, 13, 14, 3, 0, 6, 9, 10, 1, 2, 8, 5, 11, 12, 4, 15],\n",
        "         [ 13, 8, 11, 5, 6, 15, 0, 3, 4, 7, 2, 12, 1, 10, 14, 9],\n",
        "         [ 10, 6, 9, 0, 12, 11, 7, 13, 15, 1, 3, 14, 5, 2, 8, 4],\n",
        "         [ 3, 15, 0, 6, 10, 1, 13, 8, 9, 4, 5, 11, 12, 7, 2, 14]\n",
        "        ],\n",
        "        [\n",
        "         [ 2, 12, 4, 1, 7, 10, 11, 6, 8, 5, 3, 15, 13, 0, 14, 9],\n",
        "         [ 14, 11, 2, 12, 4, 7, 13, 1, 5, 0, 15, 10, 3, 9, 8, 6],\n",
        "         [ 4, 2, 1, 11, 10, 13, 7, 8, 15, 9, 12, 5, 6, 3, 0, 14],\n",
        "         [ 11, 8, 12, 7, 1, 14, 2, 13, 6, 15, 0, 9, 10, 4, 5, 3]\n",
        "        ],\n",
        "        [\n",
        "         [ 12, 1, 10, 15, 9, 2, 6, 8, 0, 13, 3, 4, 14, 7, 5, 11],\n",
        "         [ 10, 15, 4, 2, 7, 12, 9, 5, 6, 1, 13, 14, 0, 11, 3, 8],\n",
        "         [ 9, 14, 15, 5, 2, 8, 12, 3, 7, 0, 4, 10, 1, 13, 11, 6],\n",
        "         [ 4, 3, 2, 12, 9, 5, 15, 10, 11, 14, 1, 7, 6, 0, 8, 13]\n",
        "        ],\n",
        "        [\n",
        "         [ 4, 11, 2, 14, 15, 0, 8, 13, 3, 12, 9, 7, 5, 10, 6, 1],\n",
        "         [ 13, 0, 11, 7, 4, 9, 1, 10, 14, 3, 5, 12, 2, 15, 8, 6],\n",
        "         [ 1, 4, 11, 13, 12, 3, 7, 14, 10, 15, 6, 8, 0, 5, 9, 2],\n",
        "         [ 6, 11, 13, 8, 1, 4, 10, 7, 9, 5, 0, 15, 14, 2, 3, 12]\n",
        "        ],\n",
        "        [\n",
        "         [13, 2, 8, 4, 6, 15, 11, 1, 10, 9, 3, 14, 5, 0, 12, 7],\n",
        "         [1, 15, 13, 8, 10, 3, 7, 4, 12, 5, 6, 11, 0, 14, 9, 2],\n",
        "         [7, 11, 4, 1, 9, 12, 14, 2, 0, 6, 10, 13, 15, 3, 5, 8],\n",
        "         [2, 1, 14, 7, 4, 10, 8, 13, 15, 12, 9, 0, 3, 5, 6, 11]\n",
        "        ]\n",
        "      ]"
      ]
    },
    {
      "cell_type": "code",
      "execution_count": null,
      "metadata": {
        "id": "5RqfUwGNQWIY"
      },
      "outputs": [],
      "source": [
        "def dec_to_bin(n):\n",
        "    binary = bin(n)[2:]\n",
        "    while len(binary) < 4:\n",
        "        binary = '0' + binary\n",
        "    return binary"
      ]
    },
    {
      "cell_type": "code",
      "execution_count": null,
      "metadata": {
        "id": "XdTlBHikVhoD"
      },
      "outputs": [],
      "source": [
        "def bin_to_dec(msg):\n",
        "  decimal,i=0,0\n",
        "  while(msg!=0):\n",
        "    dec=msg%10\n",
        "    decimal=decimal+dec*pow(2, i)\n",
        "    msg=msg//10\n",
        "    i+=1\n",
        "  return decimal"
      ]
    },
    {
      "cell_type": "markdown",
      "source": [
        "**Membuat Expansi pada R0**"
      ],
      "metadata": {
        "id": "eHlw503c9r22"
      }
    },
    {
      "cell_type": "code",
      "execution_count": null,
      "metadata": {
        "colab": {
          "base_uri": "https://localhost:8080/"
        },
        "id": "rJ6GYsyQTkY1",
        "outputId": "ae2bced1-b8c4-4feb-fa8a-717a65552185"
      },
      "outputs": [
        {
          "output_type": "stream",
          "name": "stdout",
          "text": [
            "E(R0) : 100000000000000000000000000000001101010000000110\n"
          ]
        }
      ],
      "source": [
        "ER0 = ''\n",
        "R = R0\n",
        "for i in range(48):\n",
        "  ER0 += R[tabel_expansi[i]-1]\n",
        "print(\"E(R0) :\",ER0)"
      ]
    },
    {
      "cell_type": "markdown",
      "source": [
        "**Melakukan XOR dari E(R0) dan K1, dan mendapatkan nilai A1**"
      ],
      "metadata": {
        "id": "JJBNJOVx9yvM"
      }
    },
    {
      "cell_type": "code",
      "execution_count": null,
      "metadata": {
        "colab": {
          "base_uri": "https://localhost:8080/"
        },
        "id": "bRfBgy4XTn1C",
        "outputId": "69da0749-e67e-449d-b37a-ab5a7228e0dd"
      },
      "outputs": [
        {
          "output_type": "stream",
          "name": "stdout",
          "text": [
            "A1 : 100110110000001011101111111111001010010001110100\n"
          ]
        }
      ],
      "source": [
        "A1 = ''\n",
        "for j in range(48):\n",
        "  if(ER0[j] == k_pc2[0][j]):\n",
        "    A1+='0'\n",
        "  else:\n",
        "    A1+='1'\n",
        "print(\"A1 :\",A1)"
      ]
    },
    {
      "cell_type": "markdown",
      "source": [
        "**Melakukan Subtitusi pada S-Box dari nilai 8 blok A1**"
      ],
      "metadata": {
        "id": "OUkB_lYU9_Yq"
      }
    },
    {
      "cell_type": "code",
      "execution_count": null,
      "metadata": {
        "colab": {
          "base_uri": "https://localhost:8080/"
        },
        "id": "EH5YENJafmP_",
        "outputId": "e60c8d76-6793-4f4d-8243-355aac4b603b"
      },
      "outputs": [
        {
          "output_type": "stream",
          "name": "stdout",
          "text": [
            "B1 : 10000101010010000011001011101010\n"
          ]
        }
      ],
      "source": [
        "B1=\"\"\n",
        "for i in range(0,8):\n",
        "  row=bin_to_dec(int(A1[i*6]+A1[i*6+5]))\n",
        "  col=bin_to_dec(int(A1[i*6+1]+A1[i*6+2]+A1[i*6+3]+A1[i*6+4]))\n",
        "  val=s_box[i][row][col]\n",
        "  B1 += dec_to_bin(int(val))\n",
        "print(\"B1 :\",B1)"
      ]
    },
    {
      "cell_type": "markdown",
      "source": [
        "**Permutasian hasil nilai B1**"
      ],
      "metadata": {
        "id": "cxQlvH7a-fuN"
      }
    },
    {
      "cell_type": "code",
      "source": [
        "p_box = [16, 7, 20, 21, 29, 12, 28, 17,\n",
        "            1, 15, 23, 26, 5, 18, 31, 10,\n",
        "            2, 8, 24, 14, 32, 27, 3, 9,\n",
        "            19, 13, 30, 6, 22, 11, 4, 25]"
      ],
      "metadata": {
        "id": "e07efo801XF2"
      },
      "execution_count": null,
      "outputs": []
    },
    {
      "cell_type": "code",
      "execution_count": null,
      "metadata": {
        "colab": {
          "base_uri": "https://localhost:8080/"
        },
        "id": "uLkVHUYaYOFf",
        "outputId": "5410eb8a-9d93-49e4-f1f8-bb3b48a31237"
      },
      "outputs": [
        {
          "output_type": "stream",
          "name": "stdout",
          "text": [
            "PB1 : 00101000101100110100010011010001\n"
          ]
        }
      ],
      "source": [
        "PB1 = ''\n",
        "for i in range(len(B1)):\n",
        "  PB1 += B1[p_box[i]-1]\n",
        "print(\"PB1 :\",PB1)"
      ]
    },
    {
      "cell_type": "markdown",
      "source": [
        "**MELAKUKAN XOR dari PB1 daan L0, untuk mendapatkan Nilai R1**"
      ],
      "metadata": {
        "id": "yvcCFtgp1iV6"
      }
    },
    {
      "cell_type": "code",
      "execution_count": null,
      "metadata": {
        "id": "H_PGbFtyaPXL"
      },
      "outputs": [],
      "source": [
        "R1 = ''\n",
        "for j in range(32):\n",
        "  if(PB1[j] == L0[j]):\n",
        "    R1+='0'\n",
        "  else:\n",
        "    R1+='1'"
      ]
    },
    {
      "cell_type": "code",
      "execution_count": null,
      "metadata": {
        "colab": {
          "base_uri": "https://localhost:8080/"
        },
        "id": "6laEDXvKa6Zu",
        "outputId": "c1bfd357-1739-4118-9511-40ad4be31fc6"
      },
      "outputs": [
        {
          "output_type": "stream",
          "name": "stdout",
          "text": [
            "L1 :  00000000000000000000011010000011\n",
            "R1 :  11010111000010110011001010000110\n"
          ]
        }
      ],
      "source": [
        "L1 = R0\n",
        "print('L1 : ', L1)\n",
        "print('R1 : ', R1)"
      ]
    },
    {
      "cell_type": "markdown",
      "metadata": {
        "id": "Fwl3296ebVWU"
      },
      "source": [
        "# **Loop untuk mendapatkan L1, R1 sampai L16, R16**"
      ]
    },
    {
      "cell_type": "code",
      "execution_count": null,
      "metadata": {
        "colab": {
          "base_uri": "https://localhost:8080/"
        },
        "id": "ihout-LdbUks",
        "outputId": "e2bbce8b-3508-4efb-f072-fdfcbcf78a3a"
      },
      "outputs": [
        {
          "output_type": "stream",
          "name": "stdout",
          "text": [
            "PERPUTARAN 2\n",
            "P(B2) : 10001011110110011000110000010011\n",
            "L(2)  : 00000000000000000000011010000011\n",
            "---------------------------------------------\n",
            "R(2)  : 10001011110110011000101010010000\n",
            "\n",
            "PERPUTARAN 3\n",
            "P(B3) : 01101111101100101001110011111110\n",
            "L(3)  : 11010111000010110011001010000110\n",
            "---------------------------------------------\n",
            "R(3)  : 10111000101110011010111001111000\n",
            "\n",
            "PERPUTARAN 4\n",
            "P(B4) : 00111111001110110100011110100001\n",
            "L(4)  : 10001011110110011000101010010000\n",
            "---------------------------------------------\n",
            "R(4)  : 10110100111000101100110100110001\n",
            "\n",
            "PERPUTARAN 5\n",
            "P(B5) : 10010101001100101101100001000101\n",
            "L(5)  : 10111000101110011010111001111000\n",
            "---------------------------------------------\n",
            "R(5)  : 00101101100010110111011000111101\n",
            "\n",
            "PERPUTARAN 6\n",
            "P(B6) : 00100100000110111111001111111000\n",
            "L(6)  : 10110100111000101100110100110001\n",
            "---------------------------------------------\n",
            "R(6)  : 10010000111110010011111011001001\n",
            "\n",
            "PERPUTARAN 7\n",
            "P(B7) : 11001000110000011110111001101100\n",
            "L(7)  : 00101101100010110111011000111101\n",
            "---------------------------------------------\n",
            "R(7)  : 11100101010010101001100001010001\n",
            "\n",
            "PERPUTARAN 8\n",
            "P(B8) : 00000111001110010010100101100001\n",
            "L(8)  : 10010000111110010011111011001001\n",
            "---------------------------------------------\n",
            "R(8)  : 10010111110000000001011110101000\n",
            "\n",
            "PERPUTARAN 9\n",
            "P(B9) : 11011001001110111010001110010100\n",
            "L(9)  : 11100101010010101001100001010001\n",
            "---------------------------------------------\n",
            "R(9)  : 00111100011100010011101111000101\n",
            "\n",
            "PERPUTARAN 10\n",
            "P(B10) : 00001100000101010110111000100100\n",
            "L(10)  : 10010111110000000001011110101000\n",
            "---------------------------------------------\n",
            "R(10)  : 10011011110101010111100110001100\n",
            "\n",
            "PERPUTARAN 11\n",
            "P(B11) : 01110001001111101011000001010011\n",
            "L(11)  : 00111100011100010011101111000101\n",
            "---------------------------------------------\n",
            "R(11)  : 01001101010011111000101110010110\n",
            "\n",
            "PERPUTARAN 12\n",
            "P(B12) : 10101000011010001000111011101001\n",
            "L(12)  : 10011011110101010111100110001100\n",
            "---------------------------------------------\n",
            "R(12)  : 00110011101111011111011101100101\n",
            "\n",
            "PERPUTARAN 13\n",
            "P(B13) : 10000110110010111100111111001011\n",
            "L(13)  : 01001101010011111000101110010110\n",
            "---------------------------------------------\n",
            "R(13)  : 11001011100001000100010001011101\n",
            "\n",
            "PERPUTARAN 14\n",
            "P(B14) : 00000101110111010011101001001111\n",
            "L(14)  : 00110011101111011111011101100101\n",
            "---------------------------------------------\n",
            "R(14)  : 00110110011000001100110100101010\n",
            "\n",
            "PERPUTARAN 15\n",
            "P(B15) : 10100101001001101110110011101100\n",
            "L(15)  : 11001011100001000100010001011101\n",
            "---------------------------------------------\n",
            "R(15)  : 01101110101000101010100010110001\n",
            "\n",
            "PERPUTARAN 16\n",
            "P(B16) : 00101001111101110110100011001100\n",
            "L(16)  : 00110110011000001100110100101010\n",
            "---------------------------------------------\n",
            "R(16)  : 00011111100101111010010111100110\n",
            "L(16)  : 01101110101000101010100010110001\n"
          ]
        }
      ],
      "source": [
        "hasilLR = []\n",
        "hasilLR.append(L0+R0)\n",
        "PB = []\n",
        "Li = L1\n",
        "Ri = R1\n",
        "\n",
        "for i in range(1,16):\n",
        "  ER = ''\n",
        "  R = Ri\n",
        "  for j in range(48):\n",
        "    ER += R[tabel_expansi[j]-1]\n",
        "  Ai = ''\n",
        "  kun = ''\n",
        "  for k in range(48):\n",
        "    kun += k_pc2[i][k]\n",
        "    if(ER[k] == k_pc2[i][k]):\n",
        "        Ai+='0'\n",
        "    else:\n",
        "        Ai+='1'\n",
        "  Bi = ''\n",
        "  for z in range(0,8):\n",
        "    row=bin_to_dec(int(Ai[z*6]+Ai[z*6+5]))\n",
        "    col=bin_to_dec(int(Ai[z*6+1]+Ai[z*6+2]+Ai[z*6+3]+Ai[z*6+4]))\n",
        "    val=s_box[z][row][col]\n",
        "    Bi += dec_to_bin(int(val))\n",
        "  PBi = ''\n",
        "  for x in range(len(Bi)):\n",
        "    PBi += Bi[p_box[x]-1]\n",
        "  hasilLR.append(Li+Ri)\n",
        "  print(f\"PERPUTARAN {i+1}\")\n",
        "  print(f\"P(B{i+1}) : {PBi}\")\n",
        "  print(f\"L({i+1})  : {Li}\")\n",
        "  Ri = ''\n",
        "  for c in range(32):\n",
        "    if(PBi[c] == Li[c]):\n",
        "      Ri+='0'\n",
        "    else:\n",
        "      Ri+='1'\n",
        "  Li = R\n",
        "  if i == 15 :\n",
        "    hasilLR.append(Ri+Li)\n",
        "    print(\"---------------------------------------------\")\n",
        "    print(f\"R({i+1})  : {Ri}\")\n",
        "    print(f\"L({i+1})  : {Li}\")\n",
        "    L16 = Ri\n",
        "    R16 = Li\n",
        "  else:\n",
        "    print(\"---------------------------------------------\")\n",
        "    print(f\"R({i+1})  : {Ri}\\n\")"
      ]
    },
    {
      "cell_type": "code",
      "source": [
        "chiper_permutasi = [40, 8, 48, 16, 56, 24, 64, 32,\n",
        "              39, 7, 47, 15, 55, 23, 63, 31,\n",
        "              38, 6, 46, 14, 54, 22, 62, 30,\n",
        "              37, 5, 45, 13, 53, 21, 61, 29,\n",
        "              36, 4, 44, 12, 52, 20, 60, 28,\n",
        "              35, 3, 43, 11, 51, 19, 59, 27,\n",
        "              34, 2, 42, 10, 50, 18, 58, 26,\n",
        "              33, 1, 41, 9, 49, 17, 57, 25 ]\n",
        "\n",
        "cipher = ''\n",
        "for i in range(64):\n",
        "  cipher += hasilLR[16][chiper_permutasi[i]-1]\n",
        "\n",
        "print('cipher : ', cipher)"
      ],
      "metadata": {
        "colab": {
          "base_uri": "https://localhost:8080/"
        },
        "id": "JRBsghZofCTP",
        "outputId": "1274bedc-f123-4dc1-b8e9-34bac3700d9c"
      },
      "execution_count": null,
      "outputs": [
        {
          "output_type": "stream",
          "name": "stdout",
          "text": [
            "cipher :  0101011011110001110101011100100001010010101011111000000100111111\n"
          ]
        }
      ]
    },
    {
      "cell_type": "markdown",
      "source": [
        "# **Proses Decrypt**"
      ],
      "metadata": {
        "id": "271EU24Js846"
      }
    },
    {
      "cell_type": "code",
      "source": [
        "hasilDec = []\n",
        "Li = L16\n",
        "Ri = R16\n",
        "kk = 15\n",
        "for i in range(16):\n",
        "  ER = ''\n",
        "  R = Ri\n",
        "  for j in range(48):\n",
        "    ER += R[tabel_expansi[j]-1]\n",
        "  Ai = ''\n",
        "  for k in range(48):\n",
        "    if(ER[k] == k_pc2[kk][k]):\n",
        "        Ai+='0'\n",
        "    else:\n",
        "        Ai+='1'\n",
        "  kk-=1\n",
        "  Bi = ''\n",
        "  for z in range(0,8):\n",
        "    row=bin_to_dec(int(Ai[z*6]+Ai[z*6+5]))\n",
        "    col=bin_to_dec(int(Ai[z*6+1]+Ai[z*6+2]+Ai[z*6+3]+Ai[z*6+4]))\n",
        "    val=s_box[z][row][col]\n",
        "    Bi += dec_to_bin(int(val))\n",
        "  PBi = ''\n",
        "  for x in range(len(Bi)):\n",
        "    PBi += Bi[p_box[x]-1]\n",
        "  hasilDec.append(Li+Ri)\n",
        "  print(f\"PERPUTARAN {i+1}\")\n",
        "  print(f\"P(B{i+1}) : {PBi}\")\n",
        "  print(f\"L({i+1})  : {Li}\")\n",
        "  Ri = ''\n",
        "  for c in range(32):\n",
        "    if(PBi[c] == Li[c]):\n",
        "      Ri+='0'\n",
        "    else:\n",
        "      Ri+='1'\n",
        "  Li = R\n",
        "  if i == 15 :\n",
        "    hasilDec.append(Ri+Li)\n",
        "    print(\"---------------------------------------------\")\n",
        "    print(f\"R({i+1})  : {Ri}\")\n",
        "    print(f\"L({i+1})  : {Li}\")\n",
        "  else:\n",
        "    print(\"---------------------------------------------\")\n",
        "    print(f\"R({i+1})  : {Ri}\\n\")"
      ],
      "metadata": {
        "colab": {
          "base_uri": "https://localhost:8080/"
        },
        "id": "_SG184TXs8AF",
        "outputId": "f562f3f4-b29e-4c97-c9ac-016401f68317"
      },
      "execution_count": null,
      "outputs": [
        {
          "output_type": "stream",
          "name": "stdout",
          "text": [
            "PERPUTARAN 1\n",
            "P(B1) : 00101001111101110110100011001100\n",
            "L(1)  : 00011111100101111010010111100110\n",
            "---------------------------------------------\n",
            "R(1)  : 00110110011000001100110100101010\n",
            "\n",
            "PERPUTARAN 2\n",
            "P(B2) : 10100101001001101110110011101100\n",
            "L(2)  : 01101110101000101010100010110001\n",
            "---------------------------------------------\n",
            "R(2)  : 11001011100001000100010001011101\n",
            "\n",
            "PERPUTARAN 3\n",
            "P(B3) : 00000101110111010011101001001111\n",
            "L(3)  : 00110110011000001100110100101010\n",
            "---------------------------------------------\n",
            "R(3)  : 00110011101111011111011101100101\n",
            "\n",
            "PERPUTARAN 4\n",
            "P(B4) : 10000110110010111100111111001011\n",
            "L(4)  : 11001011100001000100010001011101\n",
            "---------------------------------------------\n",
            "R(4)  : 01001101010011111000101110010110\n",
            "\n",
            "PERPUTARAN 5\n",
            "P(B5) : 10101000011010001000111011101001\n",
            "L(5)  : 00110011101111011111011101100101\n",
            "---------------------------------------------\n",
            "R(5)  : 10011011110101010111100110001100\n",
            "\n",
            "PERPUTARAN 6\n",
            "P(B6) : 01110001001111101011000001010011\n",
            "L(6)  : 01001101010011111000101110010110\n",
            "---------------------------------------------\n",
            "R(6)  : 00111100011100010011101111000101\n",
            "\n",
            "PERPUTARAN 7\n",
            "P(B7) : 00001100000101010110111000100100\n",
            "L(7)  : 10011011110101010111100110001100\n",
            "---------------------------------------------\n",
            "R(7)  : 10010111110000000001011110101000\n",
            "\n",
            "PERPUTARAN 8\n",
            "P(B8) : 11011001001110111010001110010100\n",
            "L(8)  : 00111100011100010011101111000101\n",
            "---------------------------------------------\n",
            "R(8)  : 11100101010010101001100001010001\n",
            "\n",
            "PERPUTARAN 9\n",
            "P(B9) : 00000111001110010010100101100001\n",
            "L(9)  : 10010111110000000001011110101000\n",
            "---------------------------------------------\n",
            "R(9)  : 10010000111110010011111011001001\n",
            "\n",
            "PERPUTARAN 10\n",
            "P(B10) : 11001000110000011110111001101100\n",
            "L(10)  : 11100101010010101001100001010001\n",
            "---------------------------------------------\n",
            "R(10)  : 00101101100010110111011000111101\n",
            "\n",
            "PERPUTARAN 11\n",
            "P(B11) : 00100100000110111111001111111000\n",
            "L(11)  : 10010000111110010011111011001001\n",
            "---------------------------------------------\n",
            "R(11)  : 10110100111000101100110100110001\n",
            "\n",
            "PERPUTARAN 12\n",
            "P(B12) : 10010101001100101101100001000101\n",
            "L(12)  : 00101101100010110111011000111101\n",
            "---------------------------------------------\n",
            "R(12)  : 10111000101110011010111001111000\n",
            "\n",
            "PERPUTARAN 13\n",
            "P(B13) : 00111111001110110100011110100001\n",
            "L(13)  : 10110100111000101100110100110001\n",
            "---------------------------------------------\n",
            "R(13)  : 10001011110110011000101010010000\n",
            "\n",
            "PERPUTARAN 14\n",
            "P(B14) : 01101111101100101001110011111110\n",
            "L(14)  : 10111000101110011010111001111000\n",
            "---------------------------------------------\n",
            "R(14)  : 11010111000010110011001010000110\n",
            "\n",
            "PERPUTARAN 15\n",
            "P(B15) : 10001011110110011000110000010011\n",
            "L(15)  : 10001011110110011000101010010000\n",
            "---------------------------------------------\n",
            "R(15)  : 00000000000000000000011010000011\n",
            "\n",
            "PERPUTARAN 16\n",
            "P(B16) : 00101000101100110100010011010001\n",
            "L(16)  : 11010111000010110011001010000110\n",
            "---------------------------------------------\n",
            "R(16)  : 11111111101110000111011001010111\n",
            "L(16)  : 00000000000000000000011010000011\n"
          ]
        }
      ]
    },
    {
      "cell_type": "code",
      "source": [
        "dekrip_permutasi = [40, 8, 48, 16, 56, 24, 64, 32,\n",
        "              39, 7, 47, 15, 55, 23, 63, 31,\n",
        "              38, 6, 46, 14, 54, 22, 62, 30,\n",
        "              37, 5, 45, 13, 53, 21, 61, 29,\n",
        "              36, 4, 44, 12, 52, 20, 60, 28,\n",
        "              35, 3, 43, 11, 51, 19, 59, 27,\n",
        "              34, 2, 42, 10, 50, 18, 58, 26,\n",
        "              33, 1, 41, 9, 49, 17, 57, 25 ]\n",
        "\n",
        "dekrip = ''\n",
        "for i in range(64):\n",
        "  dekrip += hasilDec[16][dekrip_permutasi[i]-1]\n",
        "\n",
        "print('Dekrip : ', dekrip)"
      ],
      "metadata": {
        "colab": {
          "base_uri": "https://localhost:8080/"
        },
        "id": "Uj1NwweVQFxF",
        "outputId": "a970183e-6798-4a75-e37d-9ca3a09f9d55"
      },
      "execution_count": null,
      "outputs": [
        {
          "output_type": "stream",
          "name": "stdout",
          "text": [
            "Dekrip :  0100001101001111010011010101000001010101010101000100010101010010\n"
          ]
        }
      ]
    },
    {
      "cell_type": "code",
      "source": [
        "binary_dec = [dekrip[i:i + 8] for i in range(0,len(dekrip),8)]\n",
        "decimal_char = [int(i,2) for i in binary_dec]\n",
        "\n",
        "dekrip_text = ''.join(chr(decimal) for decimal in decimal_char)"
      ],
      "metadata": {
        "id": "kWPh5ldophbU"
      },
      "execution_count": null,
      "outputs": []
    },
    {
      "cell_type": "code",
      "source": [
        "print(\"Plaintext :\", plaintext)\n",
        "print('Dekrip    :', dekrip_text)"
      ],
      "metadata": {
        "colab": {
          "base_uri": "https://localhost:8080/"
        },
        "id": "OWIGw6ssAC6X",
        "outputId": "6e3fa436-b888-418c-f783-8fe2a4291cc6"
      },
      "execution_count": null,
      "outputs": [
        {
          "output_type": "stream",
          "name": "stdout",
          "text": [
            "Plaintext : COMPUTER\n",
            "Dekrip    : COMPUTER\n"
          ]
        }
      ]
    }
  ],
  "metadata": {
    "colab": {
      "provenance": []
    },
    "kernelspec": {
      "display_name": "Python 3",
      "name": "python3"
    },
    "language_info": {
      "name": "python"
    }
  },
  "nbformat": 4,
  "nbformat_minor": 0
}